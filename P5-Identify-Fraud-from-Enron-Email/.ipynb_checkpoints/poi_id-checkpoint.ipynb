{
 "cells": [
  {
   "cell_type": "markdown",
   "metadata": {},
   "source": [
    "# P5: Identify Fraud from Enron Email\n",
    "\n",
    "[Enron](https://en.wikipedia.org/wiki/Enron) was an American energy, commodities, and services company based in Houston, Texas. At the end of 2001, it was revealed that it's reported financial condition was sustained by an institutionalized, systematic, and creatively planned accounting fraud, known since as the Enron scandal. Enron has since become a well-known example of willful corporate fraud and corruption.\n",
    "\n",
    "This project will attempt to predict whether a person was culpable in the fraud by sorting everyone into two classes (POI and Not POI). A modified version of the [Enron Email Dataset](https://www.cs.cmu.edu/~./enron/) is used for training multiple classifiers."
   ]
  },
  {
   "cell_type": "code",
   "execution_count": 20,
   "metadata": {
    "collapsed": false
   },
   "outputs": [],
   "source": [
    "%matplotlib inline\n",
    "### Import Libraries\n",
    "\n",
    "### import file libraries\n",
    "import sys\n",
    "import pickle\n",
    "sys.path.append(\"../tools/\")\n",
    "\n",
    "### import utility libraries\n",
    "from time import time\n",
    "import matplotlib.pyplot as plt\n",
    "import numpy as np\n",
    "import pylab as pl\n",
    "from pprint import pprint\n",
    "\n",
    "### import provided libraries\n",
    "from feature_format import featureFormat, targetFeatureSplit\n",
    "from sklearn.cross_validation import train_test_split\n",
    "from sklearn.cross_validation import StratifiedShuffleSplit\n",
    "from tester import dump_classifier_and_data, test_classifier\n",
    "\n",
    "### import pipeline libraries\n",
    "from sklearn.pipeline import Pipeline\n",
    "from sklearn.decomposition import PCA\n",
    "from sklearn.grid_search import GridSearchCV\n",
    "\n",
    "### import classification libraries\n",
    "from sklearn.naive_bayes import GaussianNB\n",
    "from sklearn.tree import DecisionTreeClassifier\n",
    "from sklearn.svm import LinearSVC\n",
    "from sklearn.ensemble import AdaBoostClassifier\n",
    "from sklearn.ensemble import RandomForestClassifier\n",
    "from sklearn.neighbors import KNeighborsClassifier\n",
    "from sklearn.linear_model import LogisticRegression\n",
    "\n",
    "### import evaluation libraries\n",
    "from sklearn.metrics import precision_score, recall_score, f1_score, make_scorer\n",
    "from sklearn.metrics import confusion_matrix\n"
   ]
  },
  {
   "cell_type": "markdown",
   "metadata": {},
   "source": [
    "### Feature Exploration"
   ]
  },
  {
   "cell_type": "code",
   "execution_count": 21,
   "metadata": {
    "collapsed": false,
    "scrolled": false
   },
   "outputs": [
    {
     "name": "stdout",
     "output_type": "stream",
     "text": [
      "****************************************************************************************************\n",
      "Exploring the Dataset\n",
      "Number of people in dataset: 146\n",
      "Number of features per person: 21\n",
      "Number of POIs in dataset: 18\n",
      "Percent of POIs that have NaN for salary: 0.06\n",
      "Percent of POIs that have NaN for deferral_payments: 0.72\n",
      "Percent of POIs that have NaN for total_payments: 0.0\n",
      "Percent of POIs that have NaN for loan_advances: 0.94\n",
      "Percent of POIs that have NaN for bonus: 0.11\n",
      "Percent of POIs that have NaN for restricted_stock_deferred: 1.0\n",
      "Percent of POIs that have NaN for deferred_income: 0.39\n",
      "Percent of POIs that have NaN for total_stock_value: 0.0\n",
      "Percent of POIs that have NaN for expenses: 0.0\n",
      "Percent of POIs that have NaN for exercised_stock_options: 0.33\n",
      "Percent of POIs that have NaN for other: 0.0\n",
      "Percent of POIs that have NaN for long_term_incentive: 0.33\n",
      "Percent of POIs that have NaN for restricted_stock: 0.06\n",
      "Percent of POIs that have NaN for director_fees: 1.0\n",
      "Percent of POIs that have NaN for to_messages: 0.22\n",
      "Percent of POIs that have NaN for from_poi_to_this_person: 0.22\n",
      "Percent of POIs that have NaN for from_messages: 0.22\n",
      "Percent of POIs that have NaN for from_this_person_to_poi: 0.22\n",
      "Percent of POIs that have NaN for shared_receipt_with_poi: 0.22\n",
      "****************************************************************************************************\n"
     ]
    }
   ],
   "source": [
    "### Feature Exploration\n",
    "\n",
    "### initalize features_list\n",
    "features_list = ['poi']\n",
    "financial_features = ['salary', 'deferral_payments', 'total_payments', 'loan_advances', 'bonus',\n",
    "                      'restricted_stock_deferred', 'deferred_income', 'total_stock_value', 'expenses',\n",
    "                      'exercised_stock_options', 'other', 'long_term_incentive', 'restricted_stock', 'director_fees']\n",
    "email_features = ['to_messages', 'from_poi_to_this_person', 'from_messages', 'from_this_person_to_poi',\n",
    "                  'shared_receipt_with_poi']\n",
    "\n",
    "### features_list with all features, PCA will be used later to reduce dimensionality\n",
    "features_list = features_list + financial_features + email_features\n",
    "\n",
    "### load the dictionary containing the dataset\n",
    "with open(\"final_project_dataset.pkl\", \"r\") as data_file:\n",
    "    data_dict = pickle.load(data_file)\n",
    "\n",
    "### format features\n",
    "data = featureFormat(data_dict, features_list, sort_keys = True)\n",
    "\n",
    "### exploring the dataset\n",
    "def explore_data(data_dict):\n",
    "    \"\"\"\n",
    "    function for exploring the big picture of the enron data\n",
    "    \"\"\"\n",
    "    print \"*\"*100\n",
    "    print \"Exploring the Dataset\"\n",
    "    print \"Number of people in dataset:\", len(data_dict)\n",
    "    print \"Number of features per person:\", len(data_dict['SKILLING JEFFREY K'])\n",
    "    print \"Number of POIs in dataset:\", sum(1 for k in data_dict.iterkeys() if data_dict[k]['poi'] == 1)\n",
    "    for i in financial_features:\n",
    "        print \"Percent of POIs that have NaN for {0}:\".format(i), round(float(sum(\n",
    "        1 for k in data_dict.iterkeys() if data_dict[k][i] == \"NaN\" and data_dict[k]['poi'] == 1)) /\n",
    "        sum(1 for k in data_dict.iterkeys() if data_dict[k]['poi'] == 1), 2)\n",
    "    \n",
    "    for i in email_features:\n",
    "        print \"Percent of POIs that have NaN for {0}:\".format(i), round(float(sum(\n",
    "        1 for k in data_dict.iterkeys() if data_dict[k][i] == \"NaN\" and data_dict[k]['poi'] == 1)) /\n",
    "        sum(1 for k in data_dict.iterkeys() if data_dict[k]['poi'] == 1), 2)\n",
    "    print \"*\"*100\n",
    "        \n",
    "explore_data(data_dict)"
   ]
  },
  {
   "cell_type": "markdown",
   "metadata": {
    "collapsed": true
   },
   "source": [
    "Right off the bat, it is clear that this isn't the most robust set of data for our goal. Of the 146 people in the dataset, only 18 are POI. We will have to keep this in mind when forming our classifiers.\n",
    "\n",
    "loan_advances and director_fees stand out as having a high percentage of POI with NaN values. This could be useful information, but I will err on the side of conservatism and remove these features from the list."
   ]
  },
  {
   "cell_type": "code",
   "execution_count": 22,
   "metadata": {
    "collapsed": false
   },
   "outputs": [
    {
     "name": "stdout",
     "output_type": "stream",
     "text": [
      "Revised features list: ['poi', 'salary', 'deferral_payments', 'total_payments', 'bonus', 'restricted_stock_deferred', 'deferred_income', 'total_stock_value', 'expenses', 'exercised_stock_options', 'other', 'long_term_incentive', 'restricted_stock', 'to_messages', 'from_poi_to_this_person', 'from_messages', 'from_this_person_to_poi', 'shared_receipt_with_poi']\n"
     ]
    }
   ],
   "source": [
    "def feature_add(feature, remove=False):\n",
    "    \"\"\"\n",
    "    function to add or remove a feature to features_list\n",
    "    \"\"\"\n",
    "    if remove == False:\n",
    "        features_list.append(feature)\n",
    "    if remove == True:\n",
    "        features_list.remove(feature)\n",
    "    \n",
    "\n",
    "feature_add('loan_advances', remove=True)\n",
    "feature_add('director_fees', remove=True)\n",
    "data = featureFormat(data_dict, features_list, sort_keys = True)\n",
    "\n",
    "print \"Revised features list:\", features_list"
   ]
  },
  {
   "cell_type": "markdown",
   "metadata": {},
   "source": [
    "### Outlier Exploration"
   ]
  },
  {
   "cell_type": "code",
   "execution_count": 23,
   "metadata": {
    "collapsed": false,
    "scrolled": true
   },
   "outputs": [
    {
     "name": "stdout",
     "output_type": "stream",
     "text": [
      "****************************************************************************************************\n",
      "salary VS bonus\n"
     ]
    },
    {
     "data": {
      "image/png": "[encoded data removed]",
      "text/plain": [
       "<matplotlib.figure.Figure at 0x9b63710>"
      ]
     },
     "metadata": {},
     "output_type": "display_data"
    },
    {
     "name": "stdout",
     "output_type": "stream",
     "text": [
      "****************************************************************************************************\n"
     ]
    }
   ],
   "source": [
    "### Outlier Exploration\n",
    "def explore_outlier(feature1, feature2, features_list, data):\n",
    "    \"\"\"\n",
    "    visualize the relationship between features\n",
    "    \"\"\"\n",
    "\n",
    "    for point in data:\n",
    "        var1 = point[features_list.index(feature1)]\n",
    "        var2 = point[features_list.index(feature2)]\n",
    "        plt.scatter( var1, var2 )\n",
    "    \n",
    "    print \"*\"*100\n",
    "    print \"{} VS {}\".format(feature1, feature2)\n",
    "    plt.xlabel(feature1)\n",
    "    plt.ylabel(feature2)\n",
    "    plt.show()\n",
    "    print \"*\"*100\n",
    "\n",
    "explore_outlier('salary', 'bonus', features_list, data)\n"
   ]
  },
  {
   "cell_type": "markdown",
   "metadata": {},
   "source": [
    "An obvious outlier can be seen in this plot. Under further exploration, it appears 'TOTAL' is being treated as an individual person in this dataset. This is a quark of spreadsheets and can be removed."
   ]
  },
  {
   "cell_type": "code",
   "execution_count": 24,
   "metadata": {
    "collapsed": false
   },
   "outputs": [
    {
     "name": "stdout",
     "output_type": "stream",
     "text": [
      "Removing outlier 'TOTAL' from the data set\n",
      "****************************************************************************************************\n",
      "salary VS bonus\n"
     ]
    },
    {
     "data": {
      "image/png": "[encoded data removed]",
      "text/plain": [
       "<matplotlib.figure.Figure at 0xa00eb38>"
      ]
     },
     "metadata": {},
     "output_type": "display_data"
    },
    {
     "name": "stdout",
     "output_type": "stream",
     "text": [
      "****************************************************************************************************\n"
     ]
    }
   ],
   "source": [
    "### Remove Outlier\n",
    "def remove_outlier(outlier):\n",
    "    \"\"\"\n",
    "    removes outliers from data\n",
    "    \"\"\"\n",
    "\n",
    "    data_dict.pop(outlier)\n",
    "    print \"Removing outlier '{0}' from the data set\".format(outlier)\n",
    "\n",
    "remove_outlier('TOTAL')\n",
    "data = featureFormat(data_dict, features_list, sort_keys = True)\n",
    "explore_outlier('salary', 'bonus', features_list, data)"
   ]
  },
  {
   "cell_type": "markdown",
   "metadata": {},
   "source": [
    "This looks much better. The remaining outliers seem to be cases of accurate information and will be left in the dataset. Let's proceed with our outlier exploration."
   ]
  },
  {
   "cell_type": "code",
   "execution_count": 25,
   "metadata": {
    "collapsed": false,
    "scrolled": false
   },
   "outputs": [
    {
     "name": "stdout",
     "output_type": "stream",
     "text": [
      "****************************************************************************************************\n",
      "salary VS deferral_payments\n"
     ]
    },
    {
     "data": {
      "image/png": "[encoded data removed]",
      "text/plain": [
       "<matplotlib.figure.Figure at 0x9b1bd30>"
      ]
     },
     "metadata": {},
     "output_type": "display_data"
    },
    {
     "name": "stdout",
     "output_type": "stream",
     "text": [
      "****************************************************************************************************\n",
      "****************************************************************************************************\n",
      "deferral_payments VS total_payments\n"
     ]
    },
    {
     "data": {
      "image/png": "[encoded data removed]",
      "text/plain": [
       "<matplotlib.figure.Figure at 0xb0877b8>"
      ]
     },
     "metadata": {},
     "output_type": "display_data"
    },
    {
     "name": "stdout",
     "output_type": "stream",
     "text": [
      "****************************************************************************************************\n",
      "****************************************************************************************************\n",
      "total_payments VS bonus\n"
     ]
    },
    {
     "data": {
      "image/png": "[encoded data removed]",
      "text/plain": [
       "<matplotlib.figure.Figure at 0x9b1b5f8>"
      ]
     },
     "metadata": {},
     "output_type": "display_data"
    },
    {
     "name": "stdout",
     "output_type": "stream",
     "text": [
      "****************************************************************************************************\n",
      "****************************************************************************************************\n",
      "bonus VS restricted_stock_deferred\n"
     ]
    },
    {
     "data": {
      "image/png": "[encoded data removed]",
      "text/plain": [
       "<matplotlib.figure.Figure at 0x9a5ffd0>"
      ]
     },
     "metadata": {},
     "output_type": "display_data"
    },
    {
     "name": "stdout",
     "output_type": "stream",
     "text": [
      "****************************************************************************************************\n",
      "****************************************************************************************************\n",
      "restricted_stock_deferred VS deferred_income\n"
     ]
    },
    {
     "data": {
      "image/png": "[encoded data removed]",
      "text/plain": [
       "<matplotlib.figure.Figure at 0x8cbf630>"
      ]
     },
     "metadata": {},
     "output_type": "display_data"
    },
    {
     "name": "stdout",
     "output_type": "stream",
     "text": [
      "****************************************************************************************************\n",
      "****************************************************************************************************\n",
      "deferred_income VS total_stock_value\n"
     ]
    },
    {
     "data": {
      "image/png": "[encoded data removed]",
      "text/plain": [
       "<matplotlib.figure.Figure at 0xa145320>"
      ]
     },
     "metadata": {},
     "output_type": "display_data"
    },
    {
     "name": "stdout",
     "output_type": "stream",
     "text": [
      "****************************************************************************************************\n",
      "****************************************************************************************************\n",
      "total_stock_value VS expenses\n"
     ]
    },
    {
     "data": {
      "image/png": "[encoded data removed]",
      "text/plain": [
       "<matplotlib.figure.Figure at 0x8bb1be0>"
      ]
     },
     "metadata": {},
     "output_type": "display_data"
    },
    {
     "name": "stdout",
     "output_type": "stream",
     "text": [
      "****************************************************************************************************\n",
      "****************************************************************************************************\n",
      "expenses VS exercised_stock_options\n"
     ]
    },
    {
     "data": {
      "image/png": "[encoded data removed]",
      "text/plain": [
       "<matplotlib.figure.Figure at 0xa397fd0>"
      ]
     },
     "metadata": {},
     "output_type": "display_data"
    },
    {
     "name": "stdout",
     "output_type": "stream",
     "text": [
      "****************************************************************************************************\n",
      "****************************************************************************************************\n",
      "exercised_stock_options VS other\n"
     ]
    },
    {
     "data": {
      "image/png": "[encoded data removed]",
      "text/plain": [
       "<matplotlib.figure.Figure at 0x9b80550>"
      ]
     },
     "metadata": {},
     "output_type": "display_data"
    },
    {
     "name": "stdout",
     "output_type": "stream",
     "text": [
      "****************************************************************************************************\n",
      "****************************************************************************************************\n",
      "other VS long_term_incentive\n"
     ]
    },
    {
     "data": {
      "image/png": "[encoded data removed]",
      "text/plain": [
       "<matplotlib.figure.Figure at 0xab71f60>"
      ]
     },
     "metadata": {},
     "output_type": "display_data"
    },
    {
     "name": "stdout",
     "output_type": "stream",
     "text": [
      "****************************************************************************************************\n",
      "****************************************************************************************************\n",
      "long_term_incentive VS restricted_stock\n"
     ]
    },
    {
     "data": {
      "image/png": "[encoded data removed]",
      "text/plain": [
       "<matplotlib.figure.Figure at 0xa9910b8>"
      ]
     },
     "metadata": {},
     "output_type": "display_data"
    },
    {
     "name": "stdout",
     "output_type": "stream",
     "text": [
      "****************************************************************************************************\n",
      "****************************************************************************************************\n",
      "restricted_stock VS to_messages\n"
     ]
    },
    {
     "data": {
      "image/png": "[encoded data removed]",
      "text/plain": [
       "<matplotlib.figure.Figure at 0x98bb780>"
      ]
     },
     "metadata": {},
     "output_type": "display_data"
    },
    {
     "name": "stdout",
     "output_type": "stream",
     "text": [
      "****************************************************************************************************\n",
      "****************************************************************************************************\n",
      "to_messages VS from_poi_to_this_person\n"
     ]
    },
    {
     "data": {
      "image/png": "[encoded data removed]",
      "text/plain": [
       "<matplotlib.figure.Figure at 0x9e43dd8>"
      ]
     },
     "metadata": {},
     "output_type": "display_data"
    },
    {
     "name": "stdout",
     "output_type": "stream",
     "text": [
      "****************************************************************************************************\n",
      "****************************************************************************************************\n",
      "from_poi_to_this_person VS from_messages\n"
     ]
    },
    {
     "data": {
      "image/png": "[encoded data removed]",
      "text/plain": [
       "<matplotlib.figure.Figure at 0x988ffd0>"
      ]
     },
     "metadata": {},
     "output_type": "display_data"
    },
    {
     "name": "stdout",
     "output_type": "stream",
     "text": [
      "****************************************************************************************************\n",
      "****************************************************************************************************\n",
      "from_messages VS from_this_person_to_poi\n"
     ]
    },
    {
     "data": {
      "image/png": "[encoded data removed]",
      "text/plain": [
       "<matplotlib.figure.Figure at 0xa408e48>"
      ]
     },
     "metadata": {},
     "output_type": "display_data"
    },
    {
     "name": "stdout",
     "output_type": "stream",
     "text": [
      "****************************************************************************************************\n",
      "****************************************************************************************************\n",
      "from_this_person_to_poi VS shared_receipt_with_poi\n"
     ]
    },
    {
     "data": {
      "image/png": "[encoded data removed]",
      "text/plain": [
       "<matplotlib.figure.Figure at 0x9ff9080>"
      ]
     },
     "metadata": {},
     "output_type": "display_data"
    },
    {
     "name": "stdout",
     "output_type": "stream",
     "text": [
      "****************************************************************************************************\n"
     ]
    }
   ],
   "source": [
    "### Countine Outlier Exploration\n",
    "from itertools import tee, izip\n",
    "def pairwise(iterable):\n",
    "    \"\"\"\n",
    "    s -> (s0,s1), (s1,s2), (s2, s3), ...\n",
    "    \"\"\"\n",
    "    a, b = tee(iterable)\n",
    "    next(b, None)\n",
    "    return izip(a, b)\n",
    "\n",
    "for f1, f2 in pairwise(features_list[1:]):\n",
    "    explore_outlier(f1, f2, features_list, data)\n"
   ]
  },
  {
   "cell_type": "markdown",
   "metadata": {},
   "source": [
    "There still are some extreme data points in the plots. We will now try to isolate the largest value for every feature to analyze whether it truly is an outlier."
   ]
  },
  {
   "cell_type": "code",
   "execution_count": 26,
   "metadata": {
    "collapsed": false
   },
   "outputs": [
    {
     "name": "stdout",
     "output_type": "stream",
     "text": [
      "****************************************************************************************************\n",
      "Isolating Outliers\n",
      "SKILLING JEFFREY K had the largest salary of: 1111258\n",
      "FREVERT MARK A had the largest deferral_payments of: 6426990\n",
      "LAY KENNETH L had the largest total_payments of: 103559793\n",
      "LAVORATO JOHN J had the largest bonus of: 8000000\n",
      "BHATNAGAR SANJAY had the largest restricted_stock_deferred of: 15456290\n",
      " had the largest deferred_income of: 0\n",
      "LAY KENNETH L had the largest total_stock_value of: 49110078\n",
      "MCCLELLAN GEORGE had the largest expenses of: 228763\n",
      "LAY KENNETH L had the largest exercised_stock_options of: 34348384\n",
      "LAY KENNETH L had the largest other of: 10359729\n",
      "MARTIN AMANDA K had the largest long_term_incentive of: 5145434\n",
      "LAY KENNETH L had the largest restricted_stock of: 14761694\n",
      "SHAPIRO RICHARD S had the largest to_messages of: 15149\n",
      "LAVORATO JOHN J had the largest from_poi_to_this_person of: 528\n",
      "KAMINSKI WINCENTY J had the largest from_messages of: 14368\n",
      "DELAINEY DAVID W had the largest from_this_person_to_poi of: 609\n",
      "BELDEN TIMOTHY N had the largest shared_receipt_with_poi of: 5521\n",
      "****************************************************************************************************\n"
     ]
    }
   ],
   "source": [
    "### Isolate outlier values\n",
    "def isolate_outliers(features_list):\n",
    "    \"\"\"\n",
    "    isolate the largest values in the features\n",
    "    \"\"\"\n",
    "    print \"*\"*100\n",
    "    print \"Isolating Outliers\"\n",
    "    for i in features_list:\n",
    "        largest = 0\n",
    "        person = \"\"\n",
    "        for k in data_dict.iterkeys():\n",
    "            if data_dict[k][i] > largest and data_dict[k][i] != 'NaN':\n",
    "                largest = data_dict[k][i]\n",
    "                person = str(k)\n",
    "    \n",
    "        print \"{0} had the largest {1} of:\".format(person, i), largest\n",
    "    print \"*\"*100\n",
    "        \n",
    "isolate_outliers(features_list[1:])"
   ]
  },
  {
   "cell_type": "markdown",
   "metadata": {},
   "source": [
    "This returns a who's who of Enron’s higher ups. With a quick Google search, a face can be put to a lot of these names. For example, John Lavarto's eight million dollar bonus was mainly the result of mark to market profits in the energy trading unit of Enron. Timothy Belden, who had the most shared receipts with POI, was the head of trading at Enron Energy Services and the mastermind of a scheme to drive up California's energy prices.\n",
    "\n",
    "\" had the largest deferred_income of: 0\" is a bit awkward and will need more exploration."
   ]
  },
  {
   "cell_type": "code",
   "execution_count": 27,
   "metadata": {
    "collapsed": false,
    "scrolled": true
   },
   "outputs": [
    {
     "name": "stdout",
     "output_type": "stream",
     "text": [
      "****************************************************************************************************\n",
      "Explore Deferred Income\n",
      "METTS MARK had a deferred_income of: NaN\n",
      "BAXTER JOHN C had a deferred_income of: -1386055\n",
      "ELLIOTT STEVEN had a deferred_income of: -400729\n",
      "CORDES WILLIAM R had a deferred_income of: NaN\n",
      "HANNON KEVIN P had a deferred_income of: -3117011\n",
      "MORDAUNT KRISTINA M had a deferred_income of: NaN\n",
      "MEYER ROCKFORD G had a deferred_income of: NaN\n",
      "MCMAHON JEFFREY had a deferred_income of: NaN\n",
      "HORTON STANLEY C had a deferred_income of: NaN\n",
      "PIPER GREGORY F had a deferred_income of: -33333\n",
      "HUMPHREY GENE E had a deferred_income of: NaN\n",
      "UMANOFF ADAM S had a deferred_income of: NaN\n",
      "BLACHMAN JEREMY M had a deferred_income of: NaN\n",
      "SUNDE MARTIN had a deferred_income of: NaN\n",
      "GIBBS DANA R had a deferred_income of: NaN\n",
      "LOWRY CHARLES P had a deferred_income of: NaN\n",
      "COLWELL WESLEY had a deferred_income of: -144062\n",
      "MULLER MARK S had a deferred_income of: -719000\n",
      "JACKSON CHARLENE R had a deferred_income of: NaN\n",
      "WESTFAHL RICHARD K had a deferred_income of: -10800\n",
      "WALTERS GARETH W had a deferred_income of: NaN\n",
      "WALLS JR ROBERT H had a deferred_income of: NaN\n",
      "KITCHEN LOUISE had a deferred_income of: NaN\n",
      "CHAN RONNIE had a deferred_income of: -98784\n",
      "BELFER ROBERT had a deferred_income of: NaN\n",
      "SHANKMAN JEFFREY A had a deferred_income of: NaN\n",
      "WODRASKA JOHN had a deferred_income of: NaN\n",
      "BERGSIEKER RICHARD P had a deferred_income of: -485813\n",
      "URQUHART JOHN A had a deferred_income of: -36666\n",
      "BIBI PHILIPPE A had a deferred_income of: NaN\n",
      "RIEKER PAULA H had a deferred_income of: -100000\n",
      "WHALEY DAVID A had a deferred_income of: NaN\n",
      "BECK SALLY W had a deferred_income of: NaN\n",
      "HAUG DAVID L had a deferred_income of: NaN\n",
      "ECHOLS JOHN B had a deferred_income of: NaN\n",
      "MENDELSOHN JOHN had a deferred_income of: -103750\n",
      "HICKERSON GARY J had a deferred_income of: NaN\n",
      "CLINE KENNETH W had a deferred_income of: NaN\n",
      "LEWIS RICHARD had a deferred_income of: NaN\n",
      "HAYES ROBERT E had a deferred_income of: NaN\n",
      "MCCARTY DANNY J had a deferred_income of: NaN\n",
      "KOPPER MICHAEL J had a deferred_income of: NaN\n",
      "LEFF DANIEL P had a deferred_income of: NaN\n",
      "LAVORATO JOHN J had a deferred_income of: NaN\n",
      "BERBERIAN DAVID had a deferred_income of: NaN\n",
      "DETMERING TIMOTHY J had a deferred_income of: -775241\n",
      "WAKEHAM JOHN had a deferred_income of: NaN\n",
      "POWERS WILLIAM had a deferred_income of: -17500\n",
      "GOLD JOSEPH had a deferred_income of: NaN\n",
      "BANNANTINE JAMES M had a deferred_income of: -5104\n",
      "DUNCAN JOHN H had a deferred_income of: -25000\n",
      "SHAPIRO RICHARD S had a deferred_income of: NaN\n",
      "SHERRIFF JOHN R had a deferred_income of: NaN\n",
      "SHELBY REX had a deferred_income of: -4167\n",
      "LEMAISTRE CHARLES had a deferred_income of: -25000\n",
      "DEFFNER JOSEPH M had a deferred_income of: NaN\n",
      "KISHKILL JOSEPH G had a deferred_income of: -51042\n",
      "WHALLEY LAWRENCE G had a deferred_income of: NaN\n",
      "MCCONNELL MICHAEL S had a deferred_income of: NaN\n",
      "PIRO JIM had a deferred_income of: NaN\n",
      "DELAINEY DAVID W had a deferred_income of: NaN\n",
      "SULLIVAN-SHAKLOVITZ COLLEEN had a deferred_income of: NaN\n",
      "WROBEL BRUCE had a deferred_income of: NaN\n",
      "LINDHOLM TOD A had a deferred_income of: NaN\n",
      "MEYER JEROME J had a deferred_income of: -38346\n",
      "LAY KENNETH L had a deferred_income of: -300000\n",
      "BUTTS ROBERT H had a deferred_income of: -75000\n",
      "OLSON CINDY K had a deferred_income of: NaN\n",
      "MCDONALD REBECCA had a deferred_income of: NaN\n",
      "CUMBERLAND MICHAEL S had a deferred_income of: NaN\n",
      "GAHN ROBERT S had a deferred_income of: -1042\n",
      "MCCLELLAN GEORGE had a deferred_income of: -125000\n",
      "HERMANN ROBERT J had a deferred_income of: -280000\n",
      "SCRIMSHAW MATTHEW had a deferred_income of: NaN\n",
      "GATHMANN WILLIAM D had a deferred_income of: NaN\n",
      "HAEDICKE MARK E had a deferred_income of: -934484\n",
      "BOWEN JR RAYMOND M had a deferred_income of: -833\n",
      "GILLIS JOHN had a deferred_income of: NaN\n",
      "FITZGERALD JAY L had a deferred_income of: NaN\n",
      "MORAN MICHAEL P had a deferred_income of: NaN\n",
      "REDMOND BRIAN L had a deferred_income of: NaN\n",
      "BAZELIDES PHILIP J had a deferred_income of: NaN\n",
      "BELDEN TIMOTHY N had a deferred_income of: -2334434\n",
      "DURAN WILLIAM D had a deferred_income of: NaN\n",
      "THORN TERENCE H had a deferred_income of: NaN\n",
      "FASTOW ANDREW S had a deferred_income of: -1386055\n",
      "FOY JOE had a deferred_income of: NaN\n",
      "CALGER CHRISTOPHER F had a deferred_income of: -262500\n",
      "RICE KENNETH D had a deferred_income of: -3504386\n",
      "KAMINSKI WINCENTY J had a deferred_income of: NaN\n",
      "LOCKHART EUGENE E had a deferred_income of: NaN\n",
      "COX DAVID had a deferred_income of: -41250\n",
      "OVERDYKE JR JERE C had a deferred_income of: NaN\n",
      "PEREIRA PAULO V. FERRAZ had a deferred_income of: -101250\n",
      "STABLER FRANK had a deferred_income of: NaN\n",
      "SKILLING JEFFREY K had a deferred_income of: NaN\n",
      "BLAKE JR. NORMAN P had a deferred_income of: -113784\n",
      "SHERRICK JEFFREY B had a deferred_income of: NaN\n",
      "PRENTICE JAMES had a deferred_income of: NaN\n",
      "GRAY RODNEY had a deferred_income of: NaN\n",
      "PICKERING MARK R had a deferred_income of: NaN\n",
      "THE TRAVEL AGENCY IN THE PARK had a deferred_income of: NaN\n",
      "NOLES JAMES L had a deferred_income of: NaN\n",
      "KEAN STEVEN J had a deferred_income of: NaN\n",
      "FOWLER PEGGY had a deferred_income of: NaN\n",
      "WASAFF GEORGE had a deferred_income of: -583325\n",
      "WHITE JR THOMAS E had a deferred_income of: NaN\n",
      "CHRISTODOULOU DIOMEDES had a deferred_income of: NaN\n",
      "ALLEN PHILLIP K had a deferred_income of: -3081055\n",
      "SHARP VICTORIA T had a deferred_income of: NaN\n",
      "JAEDICKE ROBERT had a deferred_income of: -25000\n",
      "WINOKUR JR. HERBERT S had a deferred_income of: -25000\n",
      "BROWN MICHAEL had a deferred_income of: NaN\n",
      "BADUM JAMES P had a deferred_income of: NaN\n",
      "HUGHES JAMES A had a deferred_income of: NaN\n",
      "REYNOLDS LAWRENCE had a deferred_income of: -200000\n",
      "DIMICHELE RICHARD G had a deferred_income of: NaN\n",
      "BHATNAGAR SANJAY had a deferred_income of: NaN\n",
      "CARTER REBECCA C had a deferred_income of: -159792\n",
      "BUCHANAN HAROLD G had a deferred_income of: NaN\n",
      "YEAP SOON had a deferred_income of: NaN\n",
      "MURRAY JULIA H had a deferred_income of: NaN\n",
      "GARLAND C KEVIN had a deferred_income of: NaN\n",
      "DODSON KEITH had a deferred_income of: NaN\n",
      "YEAGER F SCOTT had a deferred_income of: NaN\n",
      "HIRKO JOSEPH had a deferred_income of: NaN\n",
      "DIETRICH JANET R had a deferred_income of: NaN\n",
      "DERRICK JR. JAMES V had a deferred_income of: -1284000\n",
      "FREVERT MARK A had a deferred_income of: -3367011\n",
      "PAI LOU L had a deferred_income of: NaN\n",
      "BAY FRANKLIN R had a deferred_income of: -201641\n",
      "HAYSLETT RODERICK J had a deferred_income of: NaN\n",
      "FUGH JOHN L had a deferred_income of: NaN\n",
      "FALLON JAMES B had a deferred_income of: NaN\n",
      "KOENIG MARK E had a deferred_income of: NaN\n",
      "SAVAGE FRANK had a deferred_income of: -121284\n",
      "IZZO LAWRENCE L had a deferred_income of: NaN\n",
      "TILNEY ELIZABETH A had a deferred_income of: -575000\n",
      "MARTIN AMANDA K had a deferred_income of: NaN\n",
      "BUY RICHARD B had a deferred_income of: -694862\n",
      "GRAMM WENDY L had a deferred_income of: NaN\n",
      "CAUSEY RICHARD A had a deferred_income of: -235000\n",
      "TAYLOR MITCHELL S had a deferred_income of: NaN\n",
      "DONAHUE JR JEFFREY M had a deferred_income of: -300000\n",
      "GLISAN JR BEN F had a deferred_income of: NaN\n",
      "RICE KENNETH D had the largest deferred income of: -3504386\n",
      "****************************************************************************************************\n"
     ]
    }
   ],
   "source": [
    "### Explore deferred_income\n",
    "def explore_def_inc():\n",
    "    \"\"\"\n",
    "    function to explore deferred income\n",
    "    \"\"\"\n",
    "    print \"*\"*100\n",
    "    print \"Explore Deferred Income\"\n",
    "    lowest = 0\n",
    "    person = \"\"\n",
    "    for i in data_dict:\n",
    "        def_inc = data_dict[i]['deferred_income']\n",
    "        if def_inc < lowest:\n",
    "            lowest = def_inc\n",
    "            person = str(i)\n",
    "        print \"{0!s} had a deferred_income of:\".format(i), def_inc\n",
    "    print \"{} had the largest deferred income of:\".format(person), lowest\n",
    "    print \"*\"*100\n",
    "\n",
    "explore_def_inc()\n"
   ]
  },
  {
   "cell_type": "markdown",
   "metadata": {},
   "source": [
    "It seems this was just a coding issue where deferred income was actually negative numbers. Taking absolute values in my original code would solve this.\n",
    "\n",
    "Finally I want to check for cases where a person's features mainly consist of NaN values. These are probably less useful data points and can be removed."
   ]
  },
  {
   "cell_type": "code",
   "execution_count": 28,
   "metadata": {
    "collapsed": false
   },
   "outputs": [
    {
     "name": "stdout",
     "output_type": "stream",
     "text": [
      "****************************************************************************************************\n",
      "Exploring NaN Outliers\n",
      "LOCKHART EUGENE E had the largest number of NaNs: 20\n",
      "The five people with the most NaN values: ['LOCKHART EUGENE E', 'WHALEY DAVID A', 'WROBEL BRUCE', 'THE TRAVEL AGENCY IN THE PARK', 'GRAMM WENDY L']\n",
      "****************************************************************************************************\n"
     ]
    }
   ],
   "source": [
    "### Exploring NaN outliers\n",
    "def explore_nan_outliers():\n",
    "    largest = 0\n",
    "    person = \"\"\n",
    "    nan_dict = {}\n",
    "    for k in data_dict:\n",
    "        counter = 0\n",
    "        for v in data_dict[k]:\n",
    "            if data_dict[k][v] == \"NaN\":\n",
    "                counter += 1\n",
    "            if counter > largest:\n",
    "                largest = counter\n",
    "                person = str(k)\n",
    "            nan_dict[str(k)] = counter\n",
    "    print \"*\"*100\n",
    "    print \"Exploring NaN Outliers\"\n",
    "    print \"{0} had the largest number of NaNs:\".format(person), largest\n",
    "    print \"The five people with the most NaN values:\", sorted(nan_dict, key=nan_dict.get, reverse=True)[:5]\n",
    "    print \"*\"*100\n",
    "    \n",
    "explore_nan_outliers()\n",
    "    "
   ]
  },
  {
   "cell_type": "markdown",
   "metadata": {},
   "source": [
    "Of the people with the most NaN values, 'LOCKHART EUGENE E' and 'THE TRAVEL AGENCY IN THE PARK' seem like outliers. Lockheart has a NaN value for everything except POI and The Travel Agency doesn't seem to be a person.\n",
    "\n",
    "These will be removed for the final part of Outlier exploration."
   ]
  },
  {
   "cell_type": "markdown",
   "metadata": {},
   "source": [
    "### Remove Outliers"
   ]
  },
  {
   "cell_type": "code",
   "execution_count": 29,
   "metadata": {
    "collapsed": false
   },
   "outputs": [
    {
     "name": "stdout",
     "output_type": "stream",
     "text": [
      "****************************************************************************************************\n",
      "Remove Outliers\n",
      "Removing outlier 'LOCKHART EUGENE E' from the data set\n",
      "Removing outlier 'THE TRAVEL AGENCY IN THE PARK' from the data set\n",
      "****************************************************************************************************\n"
     ]
    }
   ],
   "source": [
    "### Remove all outliers\n",
    "\n",
    "outlier_list = ['TOTAL', 'LOCKHART EUGENE E', 'THE TRAVEL AGENCY IN THE PARK']\n",
    "\n",
    "print \"*\"*100\n",
    "print \"Remove Outliers\"\n",
    "for i in outlier_list:\n",
    "    if i in data_dict:\n",
    "        remove_outlier(i)\n",
    "print \"*\"*100"
   ]
  },
  {
   "cell_type": "markdown",
   "metadata": {},
   "source": [
    "### Create New Features\n",
    "\n",
    "I will be adding three new features to the dataset that represent the percent of email interactions with POI's"
   ]
  },
  {
   "cell_type": "code",
   "execution_count": 30,
   "metadata": {
    "collapsed": false
   },
   "outputs": [
    {
     "name": "stdout",
     "output_type": "stream",
     "text": [
      "Revised features list: ['poi', 'salary', 'deferral_payments', 'total_payments', 'bonus', 'restricted_stock_deferred', 'deferred_income', 'total_stock_value', 'expenses', 'exercised_stock_options', 'other', 'long_term_incentive', 'restricted_stock', 'to_messages', 'from_poi_to_this_person', 'from_messages', 'from_this_person_to_poi', 'shared_receipt_with_poi', 'poi_interaction_perc', 'from_poi_perc', 'to_poi_perc']\n"
     ]
    }
   ],
   "source": [
    "### Create new features\n",
    "def add_poi_interaction_perc(data_dict, features_list):\n",
    "    \"\"\"\n",
    "    add proportion of email interaction with pois\n",
    "    \"\"\"\n",
    "    fields = ['to_messages', 'from_messages',\n",
    "              'from_poi_to_this_person', 'from_this_person_to_poi']\n",
    "    for k in data_dict:\n",
    "        person = data_dict[k]\n",
    "        is_valid = True\n",
    "        for field in fields:\n",
    "            if person[field] == 'NaN':\n",
    "                is_valid = False\n",
    "        if is_valid:\n",
    "            total_messages = person['to_messages'] +\\\n",
    "                             person['from_messages']\n",
    "            poi_messages = person['from_poi_to_this_person'] +\\\n",
    "                           person['from_this_person_to_poi']\n",
    "            person['poi_interaction_perc'] = float(poi_messages) / total_messages\n",
    "        else:\n",
    "            person['poi_interaction_perc'] = 'NaN'\n",
    "    feature_add('poi_interaction_perc')\n",
    "    \n",
    "def add_from_poi_perc(data_dict, features_list):\n",
    "    \"\"\"\n",
    "    add proportion of emails from poi\n",
    "    \"\"\"\n",
    "    fields = ['to_messages', 'from_messages',\n",
    "              'from_poi_to_this_person', 'from_this_person_to_poi']\n",
    "    for k in data_dict:\n",
    "        person = data_dict[k]\n",
    "        is_valid = True\n",
    "        for field in fields:\n",
    "            if person[field] == 'NaN':\n",
    "                is_valid = False\n",
    "        if is_valid:\n",
    "            total_messages = person['to_messages'] +\\\n",
    "                             person['from_messages']\n",
    "            from_poi_messages = person['from_poi_to_this_person']\n",
    "            person['from_poi_perc'] = float(from_poi_messages) / total_messages\n",
    "        else:\n",
    "            person['from_poi_perc'] = 'NaN'\n",
    "    feature_add('from_poi_perc')\n",
    "    \n",
    "def add_to_poi_perc(data_dict, features_list):\n",
    "    \"\"\"\n",
    "    add proportion of emails to poi\n",
    "    \"\"\"\n",
    "    fields = ['to_messages', 'from_messages',\n",
    "              'from_poi_to_this_person', 'from_this_person_to_poi']\n",
    "    for k in data_dict:\n",
    "        person = data_dict[k]\n",
    "        is_valid = True\n",
    "        for field in fields:\n",
    "            if person[field] == 'NaN':\n",
    "                is_valid = False\n",
    "        if is_valid:\n",
    "            total_messages = person['to_messages'] +\\\n",
    "                             person['from_messages']\n",
    "            to_poi_messages = person['from_this_person_to_poi']\n",
    "            person['to_poi_perc'] = float(to_poi_messages) / total_messages\n",
    "        else:\n",
    "            person['to_poi_perc'] = 'NaN'\n",
    "    feature_add('to_poi_perc')\n",
    "\n",
    "add_poi_interaction_perc(data_dict, features_list)\n",
    "add_from_poi_perc(data_dict, features_list)\n",
    "add_to_poi_perc(data_dict, features_list)\n",
    "\n",
    "print \"Revised features list:\", features_list"
   ]
  },
  {
   "cell_type": "markdown",
   "metadata": {},
   "source": [
    "Now that we have added new features, lets explore them a bit."
   ]
  },
  {
   "cell_type": "code",
   "execution_count": 31,
   "metadata": {
    "collapsed": false
   },
   "outputs": [
    {
     "name": "stdout",
     "output_type": "stream",
     "text": [
      "****************************************************************************************************\n",
      "from_poi_perc VS to_poi_perc\n"
     ]
    },
    {
     "data": {
      "image/png": "[encoded data removed]",
      "text/plain": [
       "<matplotlib.figure.Figure at 0xa71e940>"
      ]
     },
     "metadata": {},
     "output_type": "display_data"
    },
    {
     "name": "stdout",
     "output_type": "stream",
     "text": [
      "****************************************************************************************************\n",
      "****************************************************************************************************\n",
      "poi_interaction_perc VS shared_receipt_with_poi\n"
     ]
    },
    {
     "data": {
      "image/png": "[encoded data removed]",
      "text/plain": [
       "<matplotlib.figure.Figure at 0x9f56b00>"
      ]
     },
     "metadata": {},
     "output_type": "display_data"
    },
    {
     "name": "stdout",
     "output_type": "stream",
     "text": [
      "****************************************************************************************************\n",
      "****************************************************************************************************\n",
      "Isolating Outliers\n",
      "DONAHUE JR JEFFREY M had the largest poi_interaction_perc of: 0.224351747463\n",
      "DONAHUE JR JEFFREY M had the largest from_poi_perc of: 0.211950394589\n",
      "HUMPHREY GENE E had the largest to_poi_perc of: 0.11724137931\n",
      "****************************************************************************************************\n"
     ]
    }
   ],
   "source": [
    "### Explore new Features\n",
    "data = featureFormat(data_dict, features_list, sort_keys = True)\n",
    "\n",
    "explore_outlier('from_poi_perc', 'to_poi_perc', features_list, data)\n",
    "explore_outlier('poi_interaction_perc', 'shared_receipt_with_poi', features_list, data)\n",
    "isolate_outliers(features_list[18:])"
   ]
  },
  {
   "cell_type": "markdown",
   "metadata": {},
   "source": [
    "DONAHUE JR JEFFREY M had the highest ratio of interaction with POIs. This makes sense since he was a managing director. HUMPHREY GENE E was CEO of Enron Investment Partners and the largest percent of emails to POIs."
   ]
  },
  {
   "cell_type": "markdown",
   "metadata": {},
   "source": [
    "### Feature Scaling\n",
    "\n",
    "Implementation for a feature scaling function in case of later need."
   ]
  },
  {
   "cell_type": "code",
   "execution_count": 32,
   "metadata": {
    "collapsed": true
   },
   "outputs": [],
   "source": [
    "### Feature scaling\n",
    "def scale_features(features):\n",
    "    \"\"\"\n",
    "    Scale features using the Min-Max algorithm\n",
    "    \"\"\"\n",
    "    from sklearn.preprocessing import MinMaxScaler\n",
    "    scaler = MinMaxScaler()\n",
    "    features = scaler.fit_transform(features)\n",
    "\n",
    "    return features\n",
    "\n",
    "### Feature removal with Kbest (Not used, PCA will take it's place later)\n",
    "#def get_k_best(data_dict, features_list, num_features):\n",
    "#    \"\"\"\n",
    "#    runs scikit-learn's SelectKBest feature selection\n",
    "#    returns dict where keys=features, values=scores\n",
    "#    \"\"\"\n",
    "#    from sklearn.feature_selection import SelectKBest\n",
    "#    \n",
    "#    data = featureFormat(data_dict, features_list)\n",
    "#    labels, features = targetFeatureSplit(data)\n",
    "#\n",
    "#    k_best = SelectKBest(k=num_features)\n",
    "#    k_best.fit(features, labels)\n",
    "#    scores = k_best.scores_\n",
    "#    unsorted_pairs = zip(features_list[1:], scores)\n",
    "#    sorted_pairs = list(reversed(sorted(unsorted_pairs, key=lambda x: x[1])))\n",
    "#    k_best_features = dict(sorted_pairs[:num_features])\n",
    "#    print \"{0} best features: {1}\\n\".format(num_features, k_best_features.keys())\n",
    "#    return k_best_features\n",
    "#    \n",
    "#best_features = get_k_best(data_dict, features_list[1:], num_features)\n",
    "#features_list = [features_list[0]] + best_features.keys()\n"
   ]
  },
  {
   "cell_type": "markdown",
   "metadata": {},
   "source": [
    "### Unoptimized Classifier Exploration\n",
    "\n",
    "Implementation of multiple classifiers that have not been optimized"
   ]
  },
  {
   "cell_type": "code",
   "execution_count": 16,
   "metadata": {
    "collapsed": true
   },
   "outputs": [],
   "source": [
    "### Store to my_dataset for easy export below.\n",
    "my_dataset = data_dict\n",
    "\n",
    "### Extract features and labels from dataset for local testing\n",
    "data = featureFormat(my_dataset, features_list, sort_keys = True)\n",
    "labels, features = targetFeatureSplit(data)\n",
    "\n",
    "### Scale features if nessessary\n",
    "features = scale_features(features)"
   ]
  },
  {
   "cell_type": "code",
   "execution_count": 33,
   "metadata": {
    "collapsed": false
   },
   "outputs": [],
   "source": [
    "### Set up function for Unoptimized Classifier Exploration\n",
    "\n",
    "### Set up list of classifiers function\n",
    "def setup_classifer_list():\n",
    "    \"\"\"\n",
    "    Initiate all classifiers and params to be used\n",
    "    \"\"\"\n",
    "    classifier_list = []\n",
    "    \n",
    "    ### Naive Bayes methods are a set of supervised learning algorithms based on\n",
    "    ### applying Bayes’ theorem with the “naive” assumption of independence between\n",
    "    ### every pair of features.\n",
    "    clf_nb = GaussianNB()\n",
    "    params_nb = {}\n",
    "    classifier_list.append((clf_nb, params_nb))\n",
    "    \n",
    "    ### Decision Trees (DTs) are a non-parametric supervised learning method\n",
    "    ### used for classification and regression. The goal is to create a model\n",
    "    ### that predicts the value of a target variable by learning simple decision\n",
    "    ### rules inferred from the data features.\n",
    "    clf_tree = DecisionTreeClassifier()\n",
    "    params_tree = {\"criterion\": ['gini', 'entropy'],\n",
    "                   \"splitter\": ['best', 'random'],\n",
    "                   \"max_features\": [None, 'auto'],\n",
    "                   \"min_samples_split\":[2, 5, 10, 20],\n",
    "                   \"class_weight\": [None, \"balanced\"]}\n",
    "    \n",
    "    classifier_list.append((clf_tree, params_tree))\n",
    "\n",
    "    ### Similar to SVC with parameter kernel=’linear’, but implemented in terms\n",
    "    ### of liblinear rather than libsvm, so it has more flexibility in the choice\n",
    "    ### of penalties and loss functions and should scale better to large numbers of samples.\n",
    "    clf_svm = LinearSVC()\n",
    "    params_svm = {\"C\": [0.5, 1, 5, 10, 100, 10**10],\n",
    "                  \"dual\": [True, False],\n",
    "                  \"tol\": [10**-1, 10**-10],\n",
    "                  \"class_weight\": [None, 'balanced']}\n",
    "    classifier_list.append((clf_svm, params_svm))\n",
    "\n",
    "    ### The core principle of AdaBoost is to fit a sequence of weak learners\n",
    "    ### (i.e., models that are only slightly better than random guessing, such\n",
    "    ### as small decision trees) on repeatedly modified versions of the data. The\n",
    "    ### predictions from all of them are then combined through a weighted majority\n",
    "    ### vote (or sum) to produce the final prediction.\n",
    "    clf_adaboost = AdaBoostClassifier()\n",
    "    params_adaboost = {\"n_estimators\": [10, 20, 25, 30, 40, 50, 100]}\n",
    "    classifier_list.append((clf_adaboost, params_adaboost))\n",
    "\n",
    "    ### With RandomForest a diverse set of classifiers is created by introducing\n",
    "    ### randomness in the classifier construction. The prediction of the ensemble\n",
    "    ### is given as the averaged prediction of the individual classifiers.\n",
    "    clf_random_tree = RandomForestClassifier()\n",
    "    params_random_tree = {\"n_estimators\": [2, 3, 5],\n",
    "                          \"criterion\": ['gini', 'entropy'], \n",
    "                          \"max_features\": [None, 'auto'],\n",
    "                          \"min_samples_split\": [2, 5, 10, 20]}\n",
    "    classifier_list.append((clf_random_tree, params_random_tree))\n",
    "\n",
    "    ### The principle behind nearest neighbor methods is to find a predefined number\n",
    "    ### of training samples closest in distance to the new point, and predict the label\n",
    "    ### from these.\n",
    "    clf_knn = KNeighborsClassifier()\n",
    "    params_knn = {\"n_neighbors\": [2, 3, 5, 8],\n",
    "                  \"weights\": ['uniform', 'distance'],\n",
    "                  \"p\": [1, 2, 3]}\n",
    "    classifier_list.append((clf_knn, params_knn))\n",
    "\n",
    "    ### Logistic regression, despite its name, is a linear model for classification rather\n",
    "    ### than regression. Logistic regression is also known in the literature as logit\n",
    "    ### regression, maximum-entropy classification (MaxEnt) or the log-linear classifier.\n",
    "    ### In this model, the probabilities describing the possible outcomes of a single trial\n",
    "    ### are modeled using a logistic function.\n",
    "    clf_log = LogisticRegression()\n",
    "    params_log = {\"dual\": [True, False],\n",
    "                  \"C\": [0.05, 0.5, 1, 10, 10**2,10**5,10**10, 10**20],\n",
    "                  \"class_weight\": [None, 'balanced'],\n",
    "                  \"tol\": [10**-1, 10**-5, 10**-10]}\n",
    "    classifier_list.append((clf_log, params_log))\n",
    "\n",
    "    return classifier_list\n",
    "\n",
    "### Train Unoptimized Classifiers Function\n",
    "def train_unoptimized(features_train, labels_train, pca_pipeline=False):\n",
    "    \"\"\"\n",
    "    train classifiers but do not optimize them\n",
    "    \"\"\"\n",
    "    classifier = setup_classifer_list()\n",
    "\n",
    "    if pca_pipeline:\n",
    "        classifier = transform_pca_pipeline(clf_supervised)\n",
    "        \n",
    "    train_list = []\n",
    "    for clf, params in classifier:\n",
    "        clf = clf.fit(features_train, labels_train)\n",
    "        train_list.append(clf)\n",
    "    \n",
    "    return train_list\n",
    "\n",
    "### Evaluation function\n",
    "def evaluate(clf, features_test, labels_test):\n",
    "    \"\"\"\n",
    "    function to evaluate classifier scores\n",
    "    \"\"\"\n",
    "    pred = clf.predict(features_test)\n",
    "            \n",
    "    f1 = f1_score(labels_test, pred)\n",
    "    recall = recall_score(labels_test, pred)\n",
    "    precision = precision_score(labels_test, pred)\n",
    "    \n",
    "    return f1, recall, precision\n",
    "\n",
    "def explore_unoptimized(features, labels, pca_pipeline=False, num_iters=10, test_size=0.3):\n",
    "    \"\"\"\n",
    "    Run evaluation metrics multiple times to get a sense of how each classifer\n",
    "    handles different data splits\n",
    "    \"\"\"\n",
    "\n",
    "    eval_grid = [[] for n in range(7)] ### number of classifiers to get data on\n",
    "    for i in range(num_iters):\n",
    "\n",
    "        ### training and test sets\n",
    "        features_train, features_test, labels_train, labels_test = train_test_split(features, labels, test_size=test_size)\n",
    "\n",
    "        ### train classifiers\n",
    "        classifier_list = train_unoptimized(features_train, labels_train, pca_pipeline)\n",
    "\n",
    "        for i, clf in enumerate(classifier_list):\n",
    "            scores = evaluate(clf, features_test, labels_test)\n",
    "            eval_grid[i].append(scores)\n",
    "\n",
    "    # Make a copy of the classifications list. Just want the structure.\n",
    "    sum_list = {}\n",
    "    for i, col in enumerate(eval_grid):\n",
    "        sum_list[classifier_list[i]] = ((sum(np.asarray(col))) / num_iters)\n",
    "\n",
    "    rank_list = sorted(sum_list.keys() , key = lambda k: sum_list[k][0], reverse=True)\n",
    "    return rank_list, sum_list"
   ]
  },
  {
   "cell_type": "code",
   "execution_count": 90,
   "metadata": {
    "collapsed": false
   },
   "outputs": [
    {
     "name": "stdout",
     "output_type": "stream",
     "text": [
      "****************************************************************************************************\n",
      "Multiple Training time: 10.578 s\n",
      "[AdaBoostClassifier(algorithm='SAMME.R', base_estimator=None,\n",
      "          learning_rate=1.0, n_estimators=50, random_state=None),\n",
      " GaussianNB(),\n",
      " LinearSVC(C=1.0, class_weight=None, dual=True, fit_intercept=True,\n",
      "     intercept_scaling=1, loss='squared_hinge', max_iter=1000,\n",
      "     multi_class='ovr', penalty='l2', random_state=None, tol=0.0001,\n",
      "     verbose=0),\n",
      " DecisionTreeClassifier(class_weight=None, criterion='gini', max_depth=None,\n",
      "            max_features=None, max_leaf_nodes=None, min_samples_leaf=1,\n",
      "            min_samples_split=2, min_weight_fraction_leaf=0.0,\n",
      "            presort=False, random_state=None, splitter='best'),\n",
      " RandomForestClassifier(bootstrap=True, class_weight=None, criterion='gini',\n",
      "            max_depth=None, max_features='auto', max_leaf_nodes=None,\n",
      "            min_samples_leaf=1, min_samples_split=2,\n",
      "            min_weight_fraction_leaf=0.0, n_estimators=10, n_jobs=1,\n",
      "            oob_score=False, random_state=None, verbose=0,\n",
      "            warm_start=False),\n",
      " LogisticRegression(C=1.0, class_weight=None, dual=False, fit_intercept=True,\n",
      "          intercept_scaling=1, max_iter=100, multi_class='ovr', n_jobs=1,\n",
      "          penalty='l2', random_state=None, solver='liblinear', tol=0.0001,\n",
      "          verbose=0, warm_start=False),\n",
      " KNeighborsClassifier(algorithm='auto', leaf_size=30, metric='minkowski',\n",
      "           metric_params=None, n_jobs=1, n_neighbors=5, p=2,\n",
      "           weights='uniform')]\n",
      "****************************************************************************************************\n",
      "{AdaBoostClassifier(algorithm='SAMME.R', base_estimator=None,\n",
      "          learning_rate=1.0, n_estimators=50, random_state=None): array([ 0.2562619 ,  0.28633333,  0.29216667]),\n",
      " DecisionTreeClassifier(class_weight=None, criterion='gini', max_depth=None,\n",
      "            max_features=None, max_leaf_nodes=None, min_samples_leaf=1,\n",
      "            min_samples_split=2, min_weight_fraction_leaf=0.0,\n",
      "            presort=False, random_state=None, splitter='best'): array([ 0.20538889,  0.24066667,  0.22083333]),\n",
      " GaussianNB(): array([ 0.25439361,  0.4055    ,  0.2181746 ]),\n",
      " KNeighborsClassifier(algorithm='auto', leaf_size=30, metric='minkowski',\n",
      "           metric_params=None, n_jobs=1, n_neighbors=5, p=2,\n",
      "           weights='uniform'): array([ 0.079 ,  0.0625,  0.125 ]),\n",
      " LinearSVC(C=1.0, class_weight=None, dual=True, fit_intercept=True,\n",
      "     intercept_scaling=1, loss='squared_hinge', max_iter=1000,\n",
      "     multi_class='ovr', penalty='l2', random_state=None, tol=0.0001,\n",
      "     verbose=0): array([ 0.23485714,  0.20983333,  0.32      ]),\n",
      " LogisticRegression(C=1.0, class_weight=None, dual=False, fit_intercept=True,\n",
      "          intercept_scaling=1, max_iter=100, multi_class='ovr', n_jobs=1,\n",
      "          penalty='l2', random_state=None, solver='liblinear', tol=0.0001,\n",
      "          verbose=0, warm_start=False): array([ 0.14585714,  0.11866667,  0.215     ]),\n",
      " RandomForestClassifier(bootstrap=True, class_weight=None, criterion='gini',\n",
      "            max_depth=None, max_features='auto', max_leaf_nodes=None,\n",
      "            min_samples_leaf=1, min_samples_split=2,\n",
      "            min_weight_fraction_leaf=0.0, n_estimators=10, n_jobs=1,\n",
      "            oob_score=False, random_state=None, verbose=0,\n",
      "            warm_start=False): array([ 0.18971429,  0.1835    ,  0.24116667])}\n",
      "****************************************************************************************************\n",
      "Best unoptimized classifier is: AdaBoostClassifier(algorithm='SAMME.R', base_estimator=None,\n",
      "          learning_rate=1.0, n_estimators=50, random_state=None)\n",
      "With scores of f1, recall, precision: [ 0.2562619   0.28633333  0.29216667]\n",
      "****************************************************************************************************\n"
     ]
    }
   ],
   "source": [
    "### Run unoptimized classifiers and return best fit\n",
    "t0 = time()\n",
    "unoptimized_rank_list, unoptimized_sum_list = explore_unoptimized(features, labels,\n",
    "                                                                  pca_pipeline = False,\n",
    "                                                                  num_iters=100, test_size=0.1)\n",
    "print \"*\"*100\n",
    "print \"Multiple Training time:\", round(time()-t0, 3), \"s\"\n",
    "pprint(unoptimized_rank_list)\n",
    "print \"*\"*100\n",
    "pprint(unoptimized_sum_list)\n",
    "print \"*\"*100\n",
    "\n",
    "best_unoptimized = unoptimized_rank_list[0]\n",
    "scores_unoptimized = unoptimized_sum_list[best_unoptimized]\n",
    "print \"Best unoptimized classifier is:\", best_unoptimized\n",
    "print \"With scores of f1, recall, precision:\", scores_unoptimized\n",
    "print \"*\"*100"
   ]
  },
  {
   "cell_type": "markdown",
   "metadata": {},
   "source": [
    "The best unoptimized classifier with a recall of .28 and a precision of .29 turned out to be:\n",
    "\n",
    "* AdaBoostClassifier(algorithm='SAMME.R', base_estimator=None, learning_rate=1.0, n_estimators=50, random_state=None)\n",
    "\n",
    "Let's try running this classifier manually."
   ]
  },
  {
   "cell_type": "code",
   "execution_count": 23,
   "metadata": {
    "collapsed": false
   },
   "outputs": [
    {
     "name": "stdout",
     "output_type": "stream",
     "text": [
      "****************************************************************************************************\n",
      "Test Classifier Manually\n",
      "AdaBoostClassifier(algorithm='SAMME.R', base_estimator=None,\n",
      "          learning_rate=1.0, n_estimators=50, random_state=None)\n",
      "\tAccuracy: 0.83080\tPrecision: 0.33166\tRecall: 0.26500\tF1: 0.29461\tF2: 0.27610\n",
      "\tTotal predictions: 15000\tTrue positives:  530\tFalse positives: 1068\tFalse negatives: 1470\tTrue negatives: 11932\n",
      "\n",
      "Feature Ranking:\n",
      "1 feature no.7 (0.16)\n",
      "2 feature no.9 (0.12)\n",
      "3 feature no.0 (0.1)\n",
      "4 feature no.8 (0.08)\n",
      "5 feature no.3 (0.08)\n",
      "6 feature no.5 (0.08)\n",
      "7 feature no.11 (0.08)\n",
      "8 feature no.12 (0.06)\n",
      "9 feature no.6 (0.06)\n",
      "10 feature no.17 (0.04)\n",
      "11 feature no.19 (0.04)\n",
      "12 feature no.10 (0.04)\n",
      "13 feature no.15 (0.02)\n",
      "14 feature no.4 (0.02)\n",
      "15 feature no.2 (0.02)\n",
      "16 feature no.18 (0.0)\n",
      "17 feature no.13 (0.0)\n",
      "18 feature no.14 (0.0)\n",
      "19 feature no.1 (0.0)\n",
      "20 feature no.16 (0.0)\n",
      "****************************************************************************************************\n"
     ]
    }
   ],
   "source": [
    "### Manually Unoptimized Classifier\n",
    "\n",
    "clf = AdaBoostClassifier(algorithm='SAMME.R', base_estimator=None,\n",
    "                         learning_rate=1.0, n_estimators=50, random_state=None)\n",
    "\n",
    "print \"*\"*100\n",
    "print \"Test Classifier Manually\"\n",
    "test_classifier(clf, my_dataset, features_list)\n",
    "\n",
    "importances = clf.feature_importances_\n",
    "indices = np.argsort(importances)[::-1]\n",
    "print 'Feature Ranking:'\n",
    "for i in range(len(features_list) - 1):\n",
    "    print \"{} feature no.{} ({})\".format(i+1,indices[i],importances[indices[i]])\n",
    "print \"*\"*100"
   ]
  },
  {
   "cell_type": "markdown",
   "metadata": {},
   "source": [
    "Using the provided tester, our results are similar. Randomness definitly plays a role in transfering classifier performance.\n",
    "\n",
    "We find some interesting results. The best feature with this classifier is 'total_stock_value' with 16% of explained variance. This makes sense intuitively, as the people with the most stock had the most incentive to want stock prices to increase. This could lead to fraud.\n",
    "\n",
    "Enough with this bare bones classifier, now let us try optimizing the classifiers with the use of PCA and GridsearchCV."
   ]
  },
  {
   "cell_type": "markdown",
   "metadata": {},
   "source": [
    "### Optimized Classifier Exploration\n",
    "\n",
    "Implementation of multiple classifiers that have been optimized"
   ]
  },
  {
   "cell_type": "code",
   "execution_count": 34,
   "metadata": {
    "collapsed": false
   },
   "outputs": [],
   "source": [
    "### Optimized Classifier exploration functions\n",
    "\n",
    "### intilize pipelines for PCA function\n",
    "def transform_pca_pipeline(classifier_list):\n",
    "    \"\"\"\n",
    "    Function takes a classifier list and returns a list of piplines of the\n",
    "    same classifiers and PCA.\n",
    "    \"\"\"\n",
    "\n",
    "    pca = PCA()\n",
    "    params_pca = {\"pca__n_components\":[2, 3, 4, 5, 10, 20], \"pca__whiten\":[False]}\n",
    "\n",
    "    for i in range(len(classifier_list)):\n",
    "\n",
    "        name = \"clf_\" + str(i)\n",
    "        clf, params = classifier_list[i]\n",
    "\n",
    "        # Modify params for gridsearch\n",
    "        new_params = {}\n",
    "        for key, value in params.iteritems():\n",
    "            new_params[name + \"__\" + key] = value\n",
    "\n",
    "        new_params.update(params_pca)\n",
    "        classifier_list[i] = (Pipeline([(\"pca\", pca), (name, clf)]), new_params)\n",
    "\n",
    "    return classifier_list\n",
    "\n",
    "### optimize classifiers function\n",
    "def optimize_classifier_list(classifier_list, features_train, labels_train):\n",
    "    \"\"\"\n",
    "    Takes a list of tuples for classifiers and parameters, and returns\n",
    "    a list of the best estimator optimized to it's given parameters.\n",
    "    \"\"\"\n",
    "\n",
    "    best_estimators = []\n",
    "    \n",
    "    for clf, params in classifier_list:\n",
    "        \n",
    "        scorer = make_scorer(f1_score)\n",
    "        clf = GridSearchCV(clf, params, scoring=scorer)\n",
    "        clf = clf.fit(features_train, labels_train)\n",
    "        clf = clf.best_estimator_       \n",
    "        clf_optimized = clf\n",
    "        best_estimators.append(clf_optimized)\n",
    "\n",
    "    return best_estimators\n",
    "\n",
    "### train the optimized classifiers function\n",
    "def train_optimized(features_train, labels_train, pca_pipeline=False):\n",
    "    \"\"\"\n",
    "    train classifiers and optimize them\n",
    "    \"\"\"\n",
    "    classifier = setup_classifer_list()\n",
    "\n",
    "    if pca_pipeline:\n",
    "        classifier = transform_pca_pipeline(classifier)\n",
    "\n",
    "    classifier = optimize_classifier_list(classifier, features_train, labels_train)\n",
    "\n",
    "    return classifier\n",
    "\n",
    "### explore all the optimized classifiers function\n",
    "def explore_optimized(my_dataset, features_list, folds = 1000, pca_pipeline=False):\n",
    "    \"\"\"\n",
    "    Run evaluation metrics multiple times to get a sense of how each classifer\n",
    "    handles different data splits (optimized)\n",
    "    \"\"\"\n",
    "    \n",
    "    ### initialize evaluation grid\n",
    "    eval_grid = [[] for n in range(7)] ### number of classifiers to get data on\n",
    "    \n",
    "    ### get data for testing\n",
    "    data = featureFormat(my_dataset, features_list, sort_keys = True)\n",
    "    labels, features = targetFeatureSplit(data)\n",
    "    \n",
    "    ### StratifiedShuffleSplit is a variation of ShuffleSplit, which returns stratified splits,\n",
    "    ### i.e which creates splits by preserving the same percentage for each target class as in the complete set.\n",
    "    cv = StratifiedShuffleSplit(labels, folds, random_state = 42)\n",
    "    \n",
    "    ### initalize count to keep track of progress\n",
    "    count = 1\n",
    "    print \"*\"*100\n",
    "    for train_idx, test_idx in cv:\n",
    "        features_train = []\n",
    "        features_test  = []\n",
    "        labels_train   = []\n",
    "        labels_test    = []\n",
    "        for ii in train_idx:\n",
    "            features_train.append( features[ii] )\n",
    "            labels_train.append( labels[ii] )\n",
    "        for jj in test_idx:\n",
    "            features_test.append( features[jj] )\n",
    "            labels_test.append( labels[jj] )\n",
    "\n",
    "        ### train classifiers\n",
    "        t0 = time()\n",
    "        classifier_list = train_optimized(features_train, labels_train, pca_pipeline)\n",
    "        print \"Training and optimizing fold {} done in:\".format(count), round(time()-t0, 3), \"s\"\n",
    "        \n",
    "        for i, clf in enumerate(classifier_list):\n",
    "            scores = evaluate(clf, features_test, labels_test)\n",
    "            eval_grid[i].append(scores)\n",
    "        \n",
    "        count += 1\n",
    "    \n",
    "    print \"*\"*100\n",
    "\n",
    "    # Make a copy of the classifications list. Just want the structure.\n",
    "    sum_list = {}\n",
    "    for i, col in enumerate(eval_grid):\n",
    "        sum_list[classifier_list[i]] = ((sum(np.asarray(col))) / folds)\n",
    "\n",
    "    rank_list = sorted(sum_list.keys() , key = lambda k: sum_list[k][0], reverse=True)\n",
    "    return rank_list, sum_list"
   ]
  },
  {
   "cell_type": "code",
   "execution_count": 96,
   "metadata": {
    "collapsed": false
   },
   "outputs": [
    {
     "name": "stdout",
     "output_type": "stream",
     "text": [
      "****************************************************************************************************\n",
      "Training and optimizing fold 1 done in: 64.306 s\n",
      "Training and optimizing fold 2 done in: 54.339 s\n",
      "****************************************************************************************************\n",
      "****************************************************************************************************\n",
      "Multiple Training time: 118.669 s\n",
      "[Pipeline(steps=[('pca', PCA(copy=True, n_components=4, whiten=False)), ('clf_5', KNeighborsClassifier(algorithm='auto', leaf_size=30, metric='minkowski',\n",
      "           metric_params=None, n_jobs=1, n_neighbors=3, p=3,\n",
      "           weights='uniform'))]),\n",
      " Pipeline(steps=[('pca', PCA(copy=True, n_components=10, whiten=False)), ('clf_1', DecisionTreeClassifier(class_weight='balanced', criterion='gini',\n",
      "            max_depth=None, max_features=None, max_leaf_nodes=None,\n",
      "            min_samples_leaf=1, min_samples_split=20,\n",
      "            min_weight_fraction_leaf=0.0, presort=False, random_state=None,\n",
      "            splitter='best'))]),\n",
      " Pipeline(steps=[('pca', PCA(copy=True, n_components=20, whiten=False)), ('clf_2', LinearSVC(C=5, class_weight='balanced', dual=False, fit_intercept=True,\n",
      "     intercept_scaling=1, loss='squared_hinge', max_iter=1000,\n",
      "     multi_class='ovr', penalty='l2', random_state=None, tol=1e-10,\n",
      "     verbose=0))]),\n",
      " Pipeline(steps=[('pca', PCA(copy=True, n_components=20, whiten=False)), ('clf_6', LogisticRegression(C=100, class_weight='balanced', dual=False,\n",
      "          fit_intercept=True, intercept_scaling=1, max_iter=100,\n",
      "          multi_class='ovr', n_jobs=1, penalty='l2', random_state=None,\n",
      "          solver='liblinear', tol=1e-10, verbose=0, warm_start=False))]),\n",
      " Pipeline(steps=[('pca', PCA(copy=True, n_components=5, whiten=False)), ('clf_4', RandomForestClassifier(bootstrap=True, class_weight=None, criterion='gini',\n",
      "            max_depth=None, max_features=None, max_leaf_nodes=None,\n",
      "            min_samples_leaf=1, min_samples_split=2,\n",
      "            min_weight_fraction_leaf=0.0, n_estimators=3, n_jobs=1,\n",
      "            oob_score=False, random_state=None, verbose=0,\n",
      "            warm_start=False))]),\n",
      " Pipeline(steps=[('pca', PCA(copy=True, n_components=5, whiten=False)), ('clf_3', AdaBoostClassifier(algorithm='SAMME.R', base_estimator=None,\n",
      "          learning_rate=1.0, n_estimators=30, random_state=None))]),\n",
      " Pipeline(steps=[('pca', PCA(copy=True, n_components=10, whiten=False)), ('clf_0', GaussianNB())])]\n",
      "****************************************************************************************************\n",
      "{Pipeline(steps=[('pca', PCA(copy=True, n_components=20, whiten=False)), ('clf_2', LinearSVC(C=5, class_weight='balanced', dual=False, fit_intercept=True,\n",
      "     intercept_scaling=1, loss='squared_hinge', max_iter=1000,\n",
      "     multi_class='ovr', penalty='l2', random_state=None, tol=1e-10,\n",
      "     verbose=0))]): array([ 0.14285714,  0.25      ,  0.1       ]),\n",
      " Pipeline(steps=[('pca', PCA(copy=True, n_components=5, whiten=False)), ('clf_3', AdaBoostClassifier(algorithm='SAMME.R', base_estimator=None,\n",
      "          learning_rate=1.0, n_estimators=30, random_state=None))]): array([ 0.,  0.,  0.]),\n",
      " Pipeline(steps=[('pca', PCA(copy=True, n_components=10, whiten=False)), ('clf_1', DecisionTreeClassifier(class_weight='balanced', criterion='gini',\n",
      "            max_depth=None, max_features=None, max_leaf_nodes=None,\n",
      "            min_samples_leaf=1, min_samples_split=20,\n",
      "            min_weight_fraction_leaf=0.0, presort=False, random_state=None,\n",
      "            splitter='best'))]): array([ 0.16666667,  0.25      ,  0.125     ]),\n",
      " Pipeline(steps=[('pca', PCA(copy=True, n_components=5, whiten=False)), ('clf_4', RandomForestClassifier(bootstrap=True, class_weight=None, criterion='gini',\n",
      "            max_depth=None, max_features=None, max_leaf_nodes=None,\n",
      "            min_samples_leaf=1, min_samples_split=2,\n",
      "            min_weight_fraction_leaf=0.0, n_estimators=3, n_jobs=1,\n",
      "            oob_score=False, random_state=None, verbose=0,\n",
      "            warm_start=False))]): array([ 0.,  0.,  0.]),\n",
      " Pipeline(steps=[('pca', PCA(copy=True, n_components=20, whiten=False)), ('clf_6', LogisticRegression(C=100, class_weight='balanced', dual=False,\n",
      "          fit_intercept=True, intercept_scaling=1, max_iter=100,\n",
      "          multi_class='ovr', n_jobs=1, penalty='l2', random_state=None,\n",
      "          solver='liblinear', tol=1e-10, verbose=0, warm_start=False))]): array([ 0.11111111,  0.25      ,  0.07142857]),\n",
      " Pipeline(steps=[('pca', PCA(copy=True, n_components=4, whiten=False)), ('clf_5', KNeighborsClassifier(algorithm='auto', leaf_size=30, metric='minkowski',\n",
      "           metric_params=None, n_jobs=1, n_neighbors=3, p=3,\n",
      "           weights='uniform'))]): array([ 0.33333333,  0.25      ,  0.5       ]),\n",
      " Pipeline(steps=[('pca', PCA(copy=True, n_components=10, whiten=False)), ('clf_0', GaussianNB())]): array([ 0.,  0.,  0.])}\n",
      "****************************************************************************************************\n",
      "Best optimized classifier is: Pipeline(steps=[('pca', PCA(copy=True, n_components=4, whiten=False)), ('clf_5', KNeighborsClassifier(algorithm='auto', leaf_size=30, metric='minkowski',\n",
      "           metric_params=None, n_jobs=1, n_neighbors=3, p=3,\n",
      "           weights='uniform'))])\n",
      "With scores of f1, recall, precision: [ 0.33333333  0.25        0.5       ]\n",
      "****************************************************************************************************\n"
     ]
    }
   ],
   "source": [
    "### Run optimized classifiers and return best fit (takes a long time with a lot of folds)\n",
    "t0 = time()\n",
    "optimized_rank_list, optimized_sum_list = explore_optimized(my_dataset, features_list,\n",
    "                                                            folds = 2, pca_pipeline=True)\n",
    "print \"*\"*100\n",
    "print \"Multiple Training time:\", round(time()-t0, 3), \"s\"\n",
    "pprint(optimized_rank_list)\n",
    "print \"*\"*100\n",
    "pprint(optimized_sum_list)\n",
    "print \"*\"*100\n",
    "\n",
    "best_optimized = optimized_rank_list[0]\n",
    "scores_optimized = optimized_sum_list[best_optimized]\n",
    "print \"Best optimized classifier is:\", best_optimized\n",
    "print \"With scores of f1, recall, precision:\", scores_optimized\n",
    "print \"*\"*100"
   ]
  },
  {
   "cell_type": "markdown",
   "metadata": {},
   "source": [
    "After running multiple classifiers through an optimizing program, we get that the KNeighborsClassifier worked best."
   ]
  },
  {
   "cell_type": "markdown",
   "metadata": {
    "collapsed": true
   },
   "source": [
    "### Explore KNeighborsClassifier with plots"
   ]
  },
  {
   "cell_type": "code",
   "execution_count": 246,
   "metadata": {
    "collapsed": false,
    "scrolled": true
   },
   "outputs": [
    {
     "name": "stdout",
     "output_type": "stream",
     "text": [
      "****************************************************************************************************\n",
      "PCA Spectrum\n"
     ]
    },
    {
     "data": {
      "image/png": "[encoded data removed]",
      "text/plain": [
       "<matplotlib.figure.Figure at 0xea3b278>"
      ]
     },
     "metadata": {},
     "output_type": "display_data"
    },
    {
     "name": "stdout",
     "output_type": "stream",
     "text": [
      "****************************************************************************************************\n",
      "****************************************************************************************************\n",
      "Normalized confusion matrix for fold: 1\n",
      "[[ 0.94  0.06]\n",
      " [ 0.57  0.43]]\n"
     ]
    },
    {
     "data": {
      "image/png": "[encoded data removed]",
      "text/plain": [
       "<matplotlib.figure.Figure at 0x110c1ac8>"
      ]
     },
     "metadata": {},
     "output_type": "display_data"
    },
    {
     "name": "stdout",
     "output_type": "stream",
     "text": [
      "****************************************************************************************************\n",
      "****************************************************************************************************\n",
      "Normalized confusion matrix for fold: 2\n",
      "[[ 0.98  0.02]\n",
      " [ 0.86  0.14]]\n"
     ]
    },
    {
     "data": {
      "image/png": "[encoded data removed]",
      "text/plain": [
       "<matplotlib.figure.Figure at 0xea3b470>"
      ]
     },
     "metadata": {},
     "output_type": "display_data"
    },
    {
     "name": "stdout",
     "output_type": "stream",
     "text": [
      "****************************************************************************************************\n"
     ]
    }
   ],
   "source": [
    "### Explore our KNeighborsClassifier\n",
    "\n",
    "### Create function to plot confusion matricies\n",
    "def plot_confusion_matrix(cm, title='Confusion matrix', cmap=plt.cm.Blues):\n",
    "    \"\"\"\n",
    "    function to plot confusion matricies\n",
    "    \"\"\"\n",
    "    plt.imshow(cm, interpolation='nearest', cmap=cmap)\n",
    "    plt.title(title)\n",
    "    plt.colorbar()\n",
    "    tick_marks = np.arange(2)\n",
    "    plt.xticks(tick_marks, ['NonPOI', 'POI'], rotation=45)\n",
    "    plt.yticks(tick_marks, ['NonPOI', 'POI'])\n",
    "    plt.tight_layout()\n",
    "    plt.ylabel('True label')\n",
    "    plt.xlabel('Predicted label')\n",
    "\n",
    "### Create function to return plots for my classifier\n",
    "def plot_classifier(my_dataset, features_list, folds=100):\n",
    "    \"\"\"\n",
    "    function that returns plots for exploring my classifier\n",
    "    \"\"\"\n",
    "\n",
    "    ### format data\n",
    "    data = featureFormat(my_dataset, features_list, sort_keys = True)\n",
    "    labels, features = targetFeatureSplit(data)\n",
    "    \n",
    "    ### initalize PCA\n",
    "    pca = PCA(copy=True)\n",
    "\n",
    "    ### fit PCA for graphical purposes\n",
    "    pca.fit(features)\n",
    "    \n",
    "    ### PLOT 1:\n",
    "    ### PCA Spectrum\n",
    "    plt.axes([.2, .2, .7, .7])\n",
    "    plt.plot(pca.explained_variance_, linewidth=2)\n",
    "    plt.xlabel('n_components')\n",
    "    plt.ylabel('explained_variance_')\n",
    "    print \"*\"*100\n",
    "    print \"PCA Spectrum\"\n",
    "    plt.show()\n",
    "    print \"*\"*100\n",
    "    \n",
    "    ### stratify the data for multiple fold plots\n",
    "    cv = StratifiedShuffleSplit(labels, folds, test_size=0.4)\n",
    "    count = 1\n",
    "    for train_idx, test_idx in cv:\n",
    "        features_train = []\n",
    "        features_test  = []\n",
    "        labels_train   = []\n",
    "        labels_test    = []\n",
    "        for ii in train_idx:\n",
    "            features_train.append( features[ii] )\n",
    "            labels_train.append( labels[ii] )\n",
    "        for jj in test_idx:\n",
    "            features_test.append( features[jj] )\n",
    "            labels_test.append( labels[jj] )\n",
    "\n",
    "        ### PLOT 2:\n",
    "        ### confusion matrix\n",
    "        clf_final = KNeighborsClassifier(algorithm='auto', leaf_size=30, metric='minkowski',\n",
    "                                         metric_params=None, n_jobs=1, n_neighbors=3, p=3,\n",
    "                                         weights='uniform')\n",
    "\n",
    "        pca = PCA(copy=True, n_components=4, whiten=False)\n",
    "\n",
    "        clf = Pipeline(steps=[(\"pca\", pca), (\"clf\", clf_final)])\n",
    "        clf.fit(features_train, labels_train)\n",
    "\n",
    "        # predict\n",
    "        pred = clf.predict(features_test)\n",
    "\n",
    "        # Compute confusion matrix\n",
    "        cm = confusion_matrix(labels_test, pred)\n",
    "        cm_normalized = cm.astype('float') / cm.sum(axis=1)[:, np.newaxis]\n",
    "        print \"*\"*100\n",
    "        print \"Normalized confusion matrix for fold:\", count\n",
    "        print(cm_normalized)\n",
    "        plt.figure()\n",
    "        plot_confusion_matrix(cm_normalized, title='Normalized confusion matrix')\n",
    "        plt.show()\n",
    "        print \"*\"*100\n",
    "        count += 1    \n",
    "    \n",
    "plot_classifier(my_dataset, features_list, folds=2)"
   ]
  },
  {
   "cell_type": "markdown",
   "metadata": {},
   "source": [
    "The PCA spectrum for our dataset drops off significantly after 5 components.\n",
    "\n",
    "The confusion matrix shows that our classifier does a great job of finding true negatives and avoiding false positives. However, it also tends to find a lot of false negatives. It would seem the classifier guesses NonPOI more than would be optimal.\n",
    "\n",
    "Now let's manually test this classifier using the provided tester."
   ]
  },
  {
   "cell_type": "code",
   "execution_count": 35,
   "metadata": {
    "collapsed": false
   },
   "outputs": [
    {
     "name": "stdout",
     "output_type": "stream",
     "text": [
      "****************************************************************************************************\n",
      "Test Classifier Manually\n",
      "Pipeline(steps=[('pca', PCA(copy=True, n_components=4, whiten=False)), ('clf', KNeighborsClassifier(algorithm='auto', leaf_size=30, metric='minkowski',\n",
      "           metric_params=None, n_jobs=1, n_neighbors=3, p=3,\n",
      "           weights='uniform'))])\n",
      "\tAccuracy: 0.88160\tPrecision: 0.61200\tRecall: 0.30600\tF1: 0.40800\tF2: 0.34000\n",
      "\tTotal predictions: 15000\tTrue positives:  612\tFalse positives:  388\tFalse negatives: 1388\tTrue negatives: 12612\n",
      "\n",
      "****************************************************************************************************\n"
     ]
    }
   ],
   "source": [
    "### Manually test Classifier\n",
    "clf_final = KNeighborsClassifier(algorithm='auto', leaf_size=30, metric='minkowski',\n",
    "                                 metric_params=None, n_jobs=1, n_neighbors=3, p=3,\n",
    "                                 weights='uniform')\n",
    "\n",
    "pca = PCA(copy=True, n_components=4, whiten=False)\n",
    "\n",
    "clf = Pipeline(steps=[(\"pca\", pca), (\"clf\", clf_final)])\n",
    "\n",
    "print \"*\"*100\n",
    "print \"Test Classifier Manually\"\n",
    "test_classifier(clf, my_dataset, features_list)\n",
    "print \"*\"*100"
   ]
  },
  {
   "cell_type": "markdown",
   "metadata": {},
   "source": [
    "Using the provided tester, it seems that our classifier passes with:\n",
    "\n",
    "* Accuracy: 0.88160\n",
    "* Precision: 0.61200\n",
    "* Recall: 0.30600\n",
    "\n",
    "Now let's export our results for review."
   ]
  },
  {
   "cell_type": "code",
   "execution_count": 37,
   "metadata": {
    "collapsed": false
   },
   "outputs": [
    {
     "name": "stdout",
     "output_type": "stream",
     "text": [
      "****************************************************************************************************\n",
      "Dump data for testing\n",
      "Final feature list: ['poi', 'salary', 'deferral_payments', 'total_payments', 'bonus', 'restricted_stock_deferred', 'deferred_income', 'total_stock_value', 'expenses', 'exercised_stock_options', 'other', 'long_term_incentive', 'restricted_stock', 'to_messages', 'from_poi_to_this_person', 'from_messages', 'from_this_person_to_poi', 'shared_receipt_with_poi', 'poi_interaction_perc', 'from_poi_perc', 'to_poi_perc']\n",
      "****************************************************************************************************\n"
     ]
    }
   ],
   "source": [
    "### dump data\n",
    "print \"*\"*100\n",
    "print \"Dump data for testing\"\n",
    "print \"Final feature list:\", features_list\n",
    "\n",
    "dump_classifier_and_data(clf, my_dataset, features_list)\n",
    "print \"*\"*100"
   ]
  },
  {
   "cell_type": "markdown",
   "metadata": {},
   "source": [
    "### Conclusion\n",
    "\n",
    "Many different algorithms were tested with both an unoptimized version and an optimized version. The variances between algorithms were numerous, but I will focus on the difference between the best performing unoptimzed algorithm and the best performing optimized algorithm.\n",
    "\n",
    "Unoptimized algorithm:\n",
    "\n",
    "* AdaBoostClassifier(algorithm='SAMME.R', base_estimator=None, learning_rate=1.0, n_estimators=50, random_state=None)\n",
    "* Accuracy: 0.83080 Precision: 0.33166 Recall: 0.26500\tF1: 0.29461 F2: 0.27610\n",
    "\n",
    "Optimized algorithm:\n",
    "\n",
    "* Pipeline(steps=[('pca', PCA(copy=True, n_components=4, whiten=False)), ('clf_5', KNeighborsClassifier(algorithm='auto', leaf_size=30, metric='minkowski', metric_params=None, n_jobs=1, n_neighbors=3, p=3, weights='uniform')\n",
    "* Accuracy: 0.88160 Precision: 0.61200 Recall: 0.30600\tF1: 0.40800 F2: 0.34000\n",
    "\t\n",
    "The optimized algorithm performs better in every evaluation metric.  The final results being an accuracy of .88 and an F1 score of .41.\n"
   ]
  }
 ],
 "metadata": {
  "anaconda-cloud": {},
  "kernelspec": {
   "display_name": "Python [default]",
   "language": "python",
   "name": "python2"
  },
  "language_info": {
   "codemirror_mode": {
    "name": "ipython",
    "version": 2
   },
   "file_extension": ".py",
   "mimetype": "text/x-python",
   "name": "python",
   "nbconvert_exporter": "python",
   "pygments_lexer": "ipython2",
   "version": "2.7.12"
  }
 },
 "nbformat": 4,
 "nbformat_minor": 0
}
